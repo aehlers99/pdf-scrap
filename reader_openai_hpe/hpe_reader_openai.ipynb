{
 "cells": [
  {
   "cell_type": "code",
   "execution_count": 1,
   "metadata": {},
   "outputs": [],
   "source": [
    "import openai\n",
    "import re\n",
    "from pdfminer.high_level import extract_text"
   ]
  },
  {
   "cell_type": "code",
   "execution_count": 2,
   "metadata": {},
   "outputs": [],
   "source": [
    "pdf_text = extract_text('hpe.pdf', page_numbers=[1,2])"
   ]
  },
  {
   "cell_type": "code",
   "execution_count": 27,
   "metadata": {},
   "outputs": [
    {
     "name": "stdout",
     "output_type": "stream",
     "text": [
      "['1. Introdução: a ciência econômica e sua história numa linha do tempo ', '1.1. Pensamento científico, econômico e condicionalidades históricas ', '1.2. Motivação ao estudo da história do pensamento econômico ', '1.3. Uma linha do tempo para o pensamento econômico ']\n",
      "---\n",
      "['2. A economia política clássica de Adam Smith ']\n",
      "---\n",
      "['3. O utilitarismo, a teoria marginalista e estudos e mensurações dos ciclos econômicos ', '3.1. Bentham, Jevons, utilitarismo e marginalismo ', '3.2. Os primórdios da economia matemática ', '3.3. Medindo, observando e prevendo os ciclos econômicos ']\n",
      "---\n",
      "['4. Thorstein Veblen e o institucionalismo norte-americano ', '4.1. As ideias de Veblen ', '4.2. O institucionalismo: ciência e ação social na primeira metade do século XX ']\n",
      "---\n",
      "['5. Keynes e o keynesianismo ', '5.1. Keynes e sua Teoria Geral ', '5.2. As visões de Keynes sobre o papel do Estado ', '5.3. Keynesianismo(s) e a “Revolução Keynesiana”: como interpretar Keynes? ']\n",
      "---\n",
      "['6. As origens e consolidação da econometria e seus desenvolvimentos ', '6.1. A criação da Econometric Society e os objetivos iniciais da econometria ', '6.2.  Debates  metodológicos  iniciais:  Keynes-Tinbergen  sobre  o  método  econométrico  e ']\n",
      "---\n",
      "['7. A ciência econômica, a segunda guerra mundial e a guerra fria ', '7.1. As transformações científicas da segunda guerra mundial ', '7.2. Indicadores quantitativos das mudanças da economia após a segunda guerra ']\n",
      "---\n",
      "['8. Matematização e modelos econômicos ', '8.1. Modelos, rigor matemático e equilíbrio geral no pós-guerra ', '8.2. O projeto de von Neumann e Morgenstern com teoria dos jogos  ']\n",
      "---\n",
      "['9. Um panorama da macroeconomia após Keynes: a “síntese neoclássica” e outros desdobra-', '9.1. Milton Friedman e o monetarismo ', '9.2. Robert Lucas, expectativas racionais, microfundamentos e a “Crítica de Lucas” ', '9.3 A Curva de Laffer e as visões “clássica” e “keynesiana” dos ciclos de acordo com os ']\n",
      "---\n",
      "['10. O estado atual da ciência econômica: pluralismo, ortodoxia e heterodoxia ']\n",
      "---\n"
     ]
    }
   ],
   "source": [
    "# Define the pattern using regular expressions\n",
    "pattern = r'(\\d+\\.\\s*.*)'  # (\\d+\\.\\s*.*) matches a number followed by a period, followed by optional whitespace and any character greedily\n",
    "\n",
    "# Find matches using the pattern\n",
    "matches = re.findall(pattern, pdf_text)\n",
    "\n",
    "matches = matches[:-13]\n",
    "\n",
    "# Create sections based on the first number of each line\n",
    "vectors = []\n",
    "current_vector = []\n",
    "current_number = None\n",
    "\n",
    "for match in matches:\n",
    "    number = match.split('.')[0]\n",
    "    if current_vector and number != current_number:\n",
    "        vectors.append(current_vector)\n",
    "        current_vector = []\n",
    "    current_vector.append(match)\n",
    "    current_number = number\n",
    "\n",
    "if current_vector:\n",
    "    vectors.append(current_vector)\n",
    "\n",
    "# Print the vectors\n"
   ]
  },
  {
   "cell_type": "code",
   "execution_count": 39,
   "metadata": {},
   "outputs": [],
   "source": [
    "openai.api_key = \"sk-...\"\n",
    "\n",
    "response_list = []\n",
    "\n",
    "for i in range(len(vectors)):\n",
    "\n",
    "    desired_string = f\"Responda essa pergunta {vectors[i]} levando em consideração o contexto apresentado por ela e com explicações refinadas.\"\n",
    "\n",
    "    # Send the desired_string to the OpenAI API\n",
    "    response = openai.Completion.create(\n",
    "        engine=\"text-davinci-003\",\n",
    "        prompt=desired_string,\n",
    "        max_tokens=3800,\n",
    "    )\n",
    "    response_list.append(response.choices[0].text)\n",
    "\n"
   ]
  },
  {
   "cell_type": "code",
   "execution_count": 42,
   "metadata": {},
   "outputs": [],
   "source": [
    "#Subtituing the \\n for \"\" \n",
    "\n",
    "for i in range(len(response_list)):\n",
    "    response_list[i] = response_list[i].replace(\"\\n\", \"\")\n",
    "\n"
   ]
  },
  {
   "cell_type": "code",
   "execution_count": 44,
   "metadata": {},
   "outputs": [],
   "source": [
    "#Saving\n",
    "with open('hpe.txt', 'w', encoding='utf-8') as f:\n",
    "    for item in response_list:\n",
    "        f.write(\"%s\\n\" % item)\n"
   ]
  }
 ],
 "metadata": {
  "kernelspec": {
   "display_name": "Python 3",
   "language": "python",
   "name": "python3"
  },
  "language_info": {
   "codemirror_mode": {
    "name": "ipython",
    "version": 3
   },
   "file_extension": ".py",
   "mimetype": "text/x-python",
   "name": "python",
   "nbconvert_exporter": "python",
   "pygments_lexer": "ipython3",
   "version": "3.9.13"
  },
  "orig_nbformat": 4
 },
 "nbformat": 4,
 "nbformat_minor": 2
}
