{
 "cells": [
  {
   "cell_type": "code",
   "execution_count": 1,
   "metadata": {},
   "outputs": [],
   "source": [
    "from pdfminer.high_level import extract_text\n",
    "import re\n",
    "import openai\n",
    "\n",
    "pdf_text = extract_text('hist.pdf')\n"
   ]
  },
  {
   "cell_type": "code",
   "execution_count": 2,
   "metadata": {},
   "outputs": [],
   "source": [
    "import re\n",
    "from pdfminer.high_level import extract_text\n",
    "\n",
    "# Extract text from PDF\n",
    "pdf_text = extract_text('hist.pdf')\n",
    "\n",
    "# Define the pattern using regular expressions\n",
    "question_pattern = r'\\d+-\\s*(.*?)\\s*a\\)'  \n",
    "answer_pattern = r'a\\)\\s*(.*?)\\s*(?=\\d+-|$)'  \n",
    "\n",
    "# Find matches using the patterns\n",
    "questions = re.findall(question_pattern, pdf_text, re.DOTALL)\n",
    "answers = re.findall(answer_pattern, pdf_text, re.DOTALL)\n",
    "\n",
    "match_list = []\n",
    "answers_list = []\n",
    "\n",
    "for question, match in enumerate(questions):\n",
    "    match_list.append(match) \n",
    "\n",
    "for number, answer in enumerate(answers):\n",
    "    answers_list.append('a) ' + answer)\n",
    "    \n"
   ]
  },
  {
   "cell_type": "code",
   "execution_count": 3,
   "metadata": {},
   "outputs": [],
   "source": [
    "#Removing all the \\n from all the awnsers\n",
    "\n",
    "for i in range(len(answers_list)):\n",
    "    answers_list[i] = answers_list[i].replace('\\n', '')"
   ]
  },
  {
   "cell_type": "code",
   "execution_count": 7,
   "metadata": {},
   "outputs": [],
   "source": [
    "openai.api_key = \"sk-...\"\n",
    "\n",
    "response_list = []\n",
    "\n",
    "for i in range(len(match_list)):\n",
    "\n",
    "    desired_string = f\"Responda essa pergunta {match_list[i]} utilizando uma dessas possíveis respostas {answers_list[i]}. Responda somente a letra referente a resposta correta .\"\n",
    "\n",
    "    # Send the desired_string to the OpenAI API\n",
    "    response = openai.Completion.create(\n",
    "        engine=\"text-davinci-003\",\n",
    "        prompt=desired_string,\n",
    "        max_tokens=3\n",
    "    )\n",
    "    response_list.append(response.choices[0].text)\n",
    "\n"
   ]
  },
  {
   "cell_type": "code",
   "execution_count": null,
   "metadata": {},
   "outputs": [],
   "source": [
    "#Removing all the \\n from all the awnsers\n",
    "\n",
    "for i in range(len(response_list)):\n",
    "    response_list[i] = response_list[i].replace('\\n', '')\n",
    "    \n",
    "response_list"
   ]
  }
 ],
 "metadata": {
  "kernelspec": {
   "display_name": "Python 3",
   "language": "python",
   "name": "python3"
  },
  "language_info": {
   "codemirror_mode": {
    "name": "ipython",
    "version": 3
   },
   "file_extension": ".py",
   "mimetype": "text/x-python",
   "name": "python",
   "nbconvert_exporter": "python",
   "pygments_lexer": "ipython3",
   "version": "3.9.13"
  },
  "orig_nbformat": 4
 },
 "nbformat": 4,
 "nbformat_minor": 2
}
